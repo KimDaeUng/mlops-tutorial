{
 "cells": [
  {
   "cell_type": "code",
   "execution_count": 13,
   "metadata": {},
   "outputs": [],
   "source": [
    "import psycopg2\n",
    "from psycopg2.extensions import ISOLATION_LEVEL_AUTOCOMMIT\n",
    "\n",
    "conn = psycopg2.connect(user='postgres',\n",
    "password='mypassword',\n",
    "host='localhost',\n",
    "port=5432)\n",
    "conn.set_isolation_level(ISOLATION_LEVEL_AUTOCOMMIT)\n",
    "cur = conn.cursor()"
   ]
  },
  {
   "cell_type": "code",
   "execution_count": null,
   "metadata": {},
   "outputs": [],
   "source": [
    "# db_name = \"test_db\"\n",
    "# sql_create_db = \"CREATE DATABASE \" + db_name + \";\"\n",
    "# # sql_drop_db = \"DROP DATABASE \" + db_name + \";\"\n",
    "# cur.execute(sql_create_db)"
   ]
  },
  {
   "cell_type": "markdown",
   "metadata": {},
   "source": []
  },
  {
   "cell_type": "code",
   "execution_count": 6,
   "metadata": {},
   "outputs": [],
   "source": [
    "from sklearn import datasets\n",
    "import pandas as pd\n",
    "import numpy as np\n",
    "\n",
    "iris = datasets.load_iris()\n",
    "df = pd.DataFrame(\n",
    "    data=iris.data,\n",
    "    columns=[\n",
    "        \"fSepalLength\",\n",
    "        \"fSepalWidth\",\n",
    "        \"fPetalLength\",\n",
    "        \"fPetalWidth\",\n",
    "    ]\n",
    ")\n",
    "df[\"iTarget\"] = iris.target"
   ]
  },
  {
   "cell_type": "code",
   "execution_count": 7,
   "metadata": {},
   "outputs": [
    {
     "data": {
      "text/html": [
       "<div>\n",
       "<style scoped>\n",
       "    .dataframe tbody tr th:only-of-type {\n",
       "        vertical-align: middle;\n",
       "    }\n",
       "\n",
       "    .dataframe tbody tr th {\n",
       "        vertical-align: top;\n",
       "    }\n",
       "\n",
       "    .dataframe thead th {\n",
       "        text-align: right;\n",
       "    }\n",
       "</style>\n",
       "<table border=\"1\" class=\"dataframe\">\n",
       "  <thead>\n",
       "    <tr style=\"text-align: right;\">\n",
       "      <th></th>\n",
       "      <th>fSepalLength</th>\n",
       "      <th>fSepalWidth</th>\n",
       "      <th>fPetalLength</th>\n",
       "      <th>fPetalWidth</th>\n",
       "      <th>iTarget</th>\n",
       "    </tr>\n",
       "  </thead>\n",
       "  <tbody>\n",
       "    <tr>\n",
       "      <th>0</th>\n",
       "      <td>5.1</td>\n",
       "      <td>3.5</td>\n",
       "      <td>1.4</td>\n",
       "      <td>0.2</td>\n",
       "      <td>0</td>\n",
       "    </tr>\n",
       "    <tr>\n",
       "      <th>1</th>\n",
       "      <td>4.9</td>\n",
       "      <td>3.0</td>\n",
       "      <td>1.4</td>\n",
       "      <td>0.2</td>\n",
       "      <td>0</td>\n",
       "    </tr>\n",
       "    <tr>\n",
       "      <th>2</th>\n",
       "      <td>4.7</td>\n",
       "      <td>3.2</td>\n",
       "      <td>1.3</td>\n",
       "      <td>0.2</td>\n",
       "      <td>0</td>\n",
       "    </tr>\n",
       "    <tr>\n",
       "      <th>3</th>\n",
       "      <td>4.6</td>\n",
       "      <td>3.1</td>\n",
       "      <td>1.5</td>\n",
       "      <td>0.2</td>\n",
       "      <td>0</td>\n",
       "    </tr>\n",
       "    <tr>\n",
       "      <th>4</th>\n",
       "      <td>5.0</td>\n",
       "      <td>3.6</td>\n",
       "      <td>1.4</td>\n",
       "      <td>0.2</td>\n",
       "      <td>0</td>\n",
       "    </tr>\n",
       "  </tbody>\n",
       "</table>\n",
       "</div>"
      ],
      "text/plain": [
       "   fSepalLength  fSepalWidth  fPetalLength  fPetalWidth  iTarget\n",
       "0           5.1          3.5           1.4          0.2        0\n",
       "1           4.9          3.0           1.4          0.2        0\n",
       "2           4.7          3.2           1.3          0.2        0\n",
       "3           4.6          3.1           1.5          0.2        0\n",
       "4           5.0          3.6           1.4          0.2        0"
      ]
     },
     "execution_count": 7,
     "metadata": {},
     "output_type": "execute_result"
    }
   ],
   "source": [
    "df.head()"
   ]
  },
  {
   "cell_type": "code",
   "execution_count": 15,
   "metadata": {},
   "outputs": [],
   "source": [
    "table_name = \"iris_data\"\n",
    "sql_create_table = f\"\"\"CREATE TABLE IF NOT EXISTS {table_name} (\n",
    "  iIdx serial PRIMARY KEY,\n",
    "  fSepalLength FLOAT NOT NULL,\n",
    "  fSepalWidth FLOAT NOT NULL,\n",
    "  fPetalLength FLOAT NOT NULL,\n",
    "  fPetalWidth FLOAT NOT NULL,\n",
    "  iTarget INT NOT NULL\n",
    ");\"\"\"\n",
    "cur.execute(sql_create_table)"
   ]
  },
  {
   "cell_type": "code",
   "execution_count": 37,
   "metadata": {},
   "outputs": [
    {
     "name": "stdout",
     "output_type": "stream",
     "text": [
      "1 Record inserted successfully into postgres.iris_data\n"
     ]
    }
   ],
   "source": [
    "sql_insert_table = f\"\"\"INSERT INTO {table_name} (\n",
    "  fSepalLength,\n",
    "  fSepalWidth,\n",
    "  fPetalLength,\n",
    "  fPetalWidth,\n",
    "  iTarget\n",
    ") VALUES (%s, %s, %s, %s, %s)\"\"\"\n",
    "record_to_insert = df.iloc[0].values\n",
    "cur.execute(sql_insert_table, record_to_insert)\n",
    "conn.commit()\n",
    "\n",
    "count = cur.rowcount\n",
    "print(count, \"Record inserted successfully into postgres.iris_data\")"
   ]
  },
  {
   "cell_type": "code",
   "execution_count": 49,
   "metadata": {},
   "outputs": [
    {
     "name": "stdout",
     "output_type": "stream",
     "text": [
      "(1, 5.1, 3.5, 1.4, 0.2, 0)\n",
      "(2, 5.1, 3.5, 1.4, 0.2, 0)\n"
     ]
    }
   ],
   "source": [
    "cur.execute(\"SELECT * FROM iris_data;\")\n",
    "rows = cur.fetchall()\n",
    "for row in rows:\n",
    "    print(row)"
   ]
  },
  {
   "cell_type": "code",
   "execution_count": null,
   "metadata": {},
   "outputs": [],
   "source": []
  }
 ],
 "metadata": {
  "kernelspec": {
   "display_name": "Python 3.9.12 64-bit ('hmc-ra-3.9.12-dev')",
   "language": "python",
   "name": "python3"
  },
  "language_info": {
   "codemirror_mode": {
    "name": "ipython",
    "version": 3
   },
   "file_extension": ".py",
   "mimetype": "text/x-python",
   "name": "python",
   "nbconvert_exporter": "python",
   "pygments_lexer": "ipython3",
   "version": "3.9.12"
  },
  "orig_nbformat": 4,
  "vscode": {
   "interpreter": {
    "hash": "858cdcd0005c735eb80d8b969cfd038ea4913ea8c68bd03373b0cc2e1bb08201"
   }
  }
 },
 "nbformat": 4,
 "nbformat_minor": 2
}
